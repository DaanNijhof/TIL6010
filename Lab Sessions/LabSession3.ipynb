{
 "cells": [
  {
   "cell_type": "markdown",
   "source": [
    "In this Lab session, you will be working with pandas. The selected dataset could be downloaded at <https://www.kaggle.com/luiscorter/netflix-original-films-imdb-scores>. From there, a more thorough description of the data can be found.  \n",
    "For your convenience, we have downloaded the data and place it under folder `data`."
   ],
   "metadata": {}
  },
  {
   "cell_type": "markdown",
   "source": [
    "# Data Import"
   ],
   "metadata": {}
  },
  {
   "cell_type": "markdown",
   "source": [
    "First, import pandas"
   ],
   "metadata": {}
  },
  {
   "cell_type": "code",
   "execution_count": 16,
   "source": [
    "import pandas as pd"
   ],
   "outputs": [],
   "metadata": {}
  },
  {
   "cell_type": "markdown",
   "source": [
    "Specify the path to the data file `NetflixOriginals.csv`. By default, it is under the `data` directory which is under the same directory as this notebook"
   ],
   "metadata": {}
  },
  {
   "cell_type": "code",
   "execution_count": 17,
   "source": [
    "file_path = "
   ],
   "outputs": [],
   "metadata": {}
  },
  {
   "cell_type": "markdown",
   "source": [
    "As you already see, it is a csv file. Use a text editor to open the file and find out which delimiter is used."
   ],
   "metadata": {}
  },
  {
   "cell_type": "code",
   "execution_count": 18,
   "source": [
    "delimiter = "
   ],
   "outputs": [],
   "metadata": {}
  },
  {
   "cell_type": "markdown",
   "source": [
    "Now, use pandas and the above information to load the data into a dataframe."
   ],
   "metadata": {}
  },
  {
   "cell_type": "code",
   "execution_count": 19,
   "source": [
    "df = pd.read_csv(file_path, delimiter=delimiter)"
   ],
   "outputs": [],
   "metadata": {}
  },
  {
   "cell_type": "markdown",
   "source": [
    "Print the *last* 15 lines of the dataframe."
   ],
   "metadata": {}
  },
  {
   "cell_type": "code",
   "execution_count": 20,
   "source": [],
   "outputs": [
    {
     "output_type": "execute_result",
     "data": {
      "text/html": [
       "<div>\n",
       "<style scoped>\n",
       "    .dataframe tbody tr th:only-of-type {\n",
       "        vertical-align: middle;\n",
       "    }\n",
       "\n",
       "    .dataframe tbody tr th {\n",
       "        vertical-align: top;\n",
       "    }\n",
       "\n",
       "    .dataframe thead th {\n",
       "        text-align: right;\n",
       "    }\n",
       "</style>\n",
       "<table border=\"1\" class=\"dataframe\">\n",
       "  <thead>\n",
       "    <tr style=\"text-align: right;\">\n",
       "      <th></th>\n",
       "      <th>Title</th>\n",
       "      <th>Genre</th>\n",
       "      <th>Premiere</th>\n",
       "      <th>Runtime</th>\n",
       "      <th>IMDB Score</th>\n",
       "      <th>Language</th>\n",
       "    </tr>\n",
       "  </thead>\n",
       "  <tbody>\n",
       "    <tr>\n",
       "      <th>569</th>\n",
       "      <td>My Octopus Teacher</td>\n",
       "      <td>Documentary</td>\n",
       "      <td>September 7, 2020</td>\n",
       "      <td>85</td>\n",
       "      <td>8.1</td>\n",
       "      <td>English</td>\n",
       "    </tr>\n",
       "    <tr>\n",
       "      <th>570</th>\n",
       "      <td>Rising Phoenix</td>\n",
       "      <td>Documentary</td>\n",
       "      <td>August 26, 2020</td>\n",
       "      <td>106</td>\n",
       "      <td>8.1</td>\n",
       "      <td>English</td>\n",
       "    </tr>\n",
       "    <tr>\n",
       "      <th>571</th>\n",
       "      <td>13th</td>\n",
       "      <td>Documentary</td>\n",
       "      <td>October 7, 2016</td>\n",
       "      <td>100</td>\n",
       "      <td>8.2</td>\n",
       "      <td>English</td>\n",
       "    </tr>\n",
       "    <tr>\n",
       "      <th>572</th>\n",
       "      <td>Disclosure: Trans Lives on Screen</td>\n",
       "      <td>Documentary</td>\n",
       "      <td>June 19, 2020</td>\n",
       "      <td>107</td>\n",
       "      <td>8.2</td>\n",
       "      <td>English</td>\n",
       "    </tr>\n",
       "    <tr>\n",
       "      <th>573</th>\n",
       "      <td>Klaus</td>\n",
       "      <td>Animation/Christmas/Comedy/Adventure</td>\n",
       "      <td>November 15, 2019</td>\n",
       "      <td>97</td>\n",
       "      <td>8.2</td>\n",
       "      <td>English</td>\n",
       "    </tr>\n",
       "    <tr>\n",
       "      <th>574</th>\n",
       "      <td>Seaspiracy</td>\n",
       "      <td>Documentary</td>\n",
       "      <td>March 24, 2021</td>\n",
       "      <td>89</td>\n",
       "      <td>8.2</td>\n",
       "      <td>English</td>\n",
       "    </tr>\n",
       "    <tr>\n",
       "      <th>575</th>\n",
       "      <td>The Three Deaths of Marisela Escobedo</td>\n",
       "      <td>Documentary</td>\n",
       "      <td>October 14, 2020</td>\n",
       "      <td>109</td>\n",
       "      <td>8.2</td>\n",
       "      <td>Spanish</td>\n",
       "    </tr>\n",
       "    <tr>\n",
       "      <th>576</th>\n",
       "      <td>Cuba and the Cameraman</td>\n",
       "      <td>Documentary</td>\n",
       "      <td>November 24, 2017</td>\n",
       "      <td>114</td>\n",
       "      <td>8.3</td>\n",
       "      <td>English</td>\n",
       "    </tr>\n",
       "    <tr>\n",
       "      <th>577</th>\n",
       "      <td>Dancing with the Birds</td>\n",
       "      <td>Documentary</td>\n",
       "      <td>October 23, 2019</td>\n",
       "      <td>51</td>\n",
       "      <td>8.3</td>\n",
       "      <td>English</td>\n",
       "    </tr>\n",
       "    <tr>\n",
       "      <th>578</th>\n",
       "      <td>Ben Platt: Live from Radio City Music Hall</td>\n",
       "      <td>Concert Film</td>\n",
       "      <td>May 20, 2020</td>\n",
       "      <td>85</td>\n",
       "      <td>8.4</td>\n",
       "      <td>English</td>\n",
       "    </tr>\n",
       "    <tr>\n",
       "      <th>579</th>\n",
       "      <td>Taylor Swift: Reputation Stadium Tour</td>\n",
       "      <td>Concert Film</td>\n",
       "      <td>December 31, 2018</td>\n",
       "      <td>125</td>\n",
       "      <td>8.4</td>\n",
       "      <td>English</td>\n",
       "    </tr>\n",
       "    <tr>\n",
       "      <th>580</th>\n",
       "      <td>Winter on Fire: Ukraine's Fight for Freedom</td>\n",
       "      <td>Documentary</td>\n",
       "      <td>October 9, 2015</td>\n",
       "      <td>91</td>\n",
       "      <td>8.4</td>\n",
       "      <td>English/Ukranian/Russian</td>\n",
       "    </tr>\n",
       "    <tr>\n",
       "      <th>581</th>\n",
       "      <td>Springsteen on Broadway</td>\n",
       "      <td>One-man show</td>\n",
       "      <td>December 16, 2018</td>\n",
       "      <td>153</td>\n",
       "      <td>8.5</td>\n",
       "      <td>English</td>\n",
       "    </tr>\n",
       "    <tr>\n",
       "      <th>582</th>\n",
       "      <td>Emicida: AmarElo - It's All For Yesterday</td>\n",
       "      <td>Documentary</td>\n",
       "      <td>December 8, 2020</td>\n",
       "      <td>89</td>\n",
       "      <td>8.6</td>\n",
       "      <td>Portuguese</td>\n",
       "    </tr>\n",
       "    <tr>\n",
       "      <th>583</th>\n",
       "      <td>David Attenborough: A Life on Our Planet</td>\n",
       "      <td>Documentary</td>\n",
       "      <td>October 4, 2020</td>\n",
       "      <td>83</td>\n",
       "      <td>9.0</td>\n",
       "      <td>English</td>\n",
       "    </tr>\n",
       "  </tbody>\n",
       "</table>\n",
       "</div>"
      ],
      "text/plain": [
       "                                           Title  \\\n",
       "569                           My Octopus Teacher   \n",
       "570                               Rising Phoenix   \n",
       "571                                         13th   \n",
       "572            Disclosure: Trans Lives on Screen   \n",
       "573                                        Klaus   \n",
       "574                                   Seaspiracy   \n",
       "575        The Three Deaths of Marisela Escobedo   \n",
       "576                      Cuba and the Cameraman    \n",
       "577                       Dancing with the Birds   \n",
       "578   Ben Platt: Live from Radio City Music Hall   \n",
       "579        Taylor Swift: Reputation Stadium Tour   \n",
       "580  Winter on Fire: Ukraine's Fight for Freedom   \n",
       "581                      Springsteen on Broadway   \n",
       "582    Emicida: AmarElo - It's All For Yesterday   \n",
       "583     David Attenborough: A Life on Our Planet   \n",
       "\n",
       "                                    Genre           Premiere  Runtime  \\\n",
       "569                           Documentary  September 7, 2020       85   \n",
       "570                           Documentary    August 26, 2020      106   \n",
       "571                           Documentary    October 7, 2016      100   \n",
       "572                           Documentary      June 19, 2020      107   \n",
       "573  Animation/Christmas/Comedy/Adventure  November 15, 2019       97   \n",
       "574                           Documentary     March 24, 2021       89   \n",
       "575                           Documentary   October 14, 2020      109   \n",
       "576                           Documentary  November 24, 2017      114   \n",
       "577                           Documentary   October 23, 2019       51   \n",
       "578                          Concert Film       May 20, 2020       85   \n",
       "579                          Concert Film  December 31, 2018      125   \n",
       "580                           Documentary    October 9, 2015       91   \n",
       "581                          One-man show  December 16, 2018      153   \n",
       "582                           Documentary   December 8, 2020       89   \n",
       "583                           Documentary    October 4, 2020       83   \n",
       "\n",
       "     IMDB Score                  Language  \n",
       "569         8.1                   English  \n",
       "570         8.1                   English  \n",
       "571         8.2                   English  \n",
       "572         8.2                   English  \n",
       "573         8.2                   English  \n",
       "574         8.2                   English  \n",
       "575         8.2                   Spanish  \n",
       "576         8.3                   English  \n",
       "577         8.3                   English  \n",
       "578         8.4                   English  \n",
       "579         8.4                   English  \n",
       "580         8.4  English/Ukranian/Russian  \n",
       "581         8.5                   English  \n",
       "582         8.6                Portuguese  \n",
       "583         9.0                   English  "
      ]
     },
     "metadata": {},
     "execution_count": 20
    }
   ],
   "metadata": {}
  },
  {
   "cell_type": "markdown",
   "source": [
    "# Data exploration"
   ],
   "metadata": {}
  },
  {
   "cell_type": "markdown",
   "source": [
    "## How many records (rows) and attributes (columns) are in the dataset?"
   ],
   "metadata": {}
  },
  {
   "cell_type": "code",
   "execution_count": 21,
   "source": [],
   "outputs": [
    {
     "output_type": "execute_result",
     "data": {
      "text/plain": [
       "(584, 6)"
      ]
     },
     "metadata": {},
     "execution_count": 21
    }
   ],
   "metadata": {}
  },
  {
   "cell_type": "markdown",
   "source": [
    "## What is the highest (and lowest) score among all the movies in the dataset?"
   ],
   "metadata": {}
  },
  {
   "cell_type": "code",
   "execution_count": 22,
   "source": [],
   "outputs": [
    {
     "output_type": "execute_result",
     "data": {
      "text/plain": [
       "min    2.5\n",
       "max    9.0\n",
       "Name: IMDB Score, dtype: float64"
      ]
     },
     "metadata": {},
     "execution_count": 22
    }
   ],
   "metadata": {}
  },
  {
   "cell_type": "markdown",
   "source": [
    "## Which movies score the highest?"
   ],
   "metadata": {}
  },
  {
   "cell_type": "code",
   "execution_count": 23,
   "source": [],
   "outputs": [
    {
     "output_type": "execute_result",
     "data": {
      "text/html": [
       "<div>\n",
       "<style scoped>\n",
       "    .dataframe tbody tr th:only-of-type {\n",
       "        vertical-align: middle;\n",
       "    }\n",
       "\n",
       "    .dataframe tbody tr th {\n",
       "        vertical-align: top;\n",
       "    }\n",
       "\n",
       "    .dataframe thead th {\n",
       "        text-align: right;\n",
       "    }\n",
       "</style>\n",
       "<table border=\"1\" class=\"dataframe\">\n",
       "  <thead>\n",
       "    <tr style=\"text-align: right;\">\n",
       "      <th></th>\n",
       "      <th>Title</th>\n",
       "      <th>Genre</th>\n",
       "      <th>Premiere</th>\n",
       "      <th>Runtime</th>\n",
       "      <th>IMDB Score</th>\n",
       "      <th>Language</th>\n",
       "    </tr>\n",
       "  </thead>\n",
       "  <tbody>\n",
       "    <tr>\n",
       "      <th>583</th>\n",
       "      <td>David Attenborough: A Life on Our Planet</td>\n",
       "      <td>Documentary</td>\n",
       "      <td>October 4, 2020</td>\n",
       "      <td>83</td>\n",
       "      <td>9.0</td>\n",
       "      <td>English</td>\n",
       "    </tr>\n",
       "  </tbody>\n",
       "</table>\n",
       "</div>"
      ],
      "text/plain": [
       "                                        Title        Genre         Premiere  \\\n",
       "583  David Attenborough: A Life on Our Planet  Documentary  October 4, 2020   \n",
       "\n",
       "     Runtime  IMDB Score Language  \n",
       "583       83         9.0  English  "
      ]
     },
     "metadata": {},
     "execution_count": 23
    }
   ],
   "metadata": {}
  },
  {
   "cell_type": "markdown",
   "source": [
    "## What are the genres of all the movies?"
   ],
   "metadata": {}
  },
  {
   "cell_type": "code",
   "execution_count": 24,
   "source": [],
   "outputs": [
    {
     "output_type": "execute_result",
     "data": {
      "text/plain": [
       "array(['Documentary', 'Thriller', 'Science fiction/Drama',\n",
       "       'Horror thriller', 'Mystery', 'Action', 'Comedy',\n",
       "       'Heist film/Thriller', 'Musical/Western/Fantasy', 'Drama',\n",
       "       'Romantic comedy', 'Action comedy', 'Horror anthology',\n",
       "       'Political thriller', 'Superhero-Comedy', 'Horror',\n",
       "       'Romance drama', 'Anime / Short', 'Superhero', 'Heist', 'Western',\n",
       "       'Animation/Superhero', 'Family film', 'Action-thriller',\n",
       "       'Teen comedy-drama', 'Romantic drama', 'Animation',\n",
       "       'Aftershow / Interview', 'Christmas musical',\n",
       "       'Science fiction adventure', 'Science fiction', 'Variety show',\n",
       "       'Comedy-drama', 'Comedy/Fantasy/Family', 'Supernatural drama',\n",
       "       'Action/Comedy', 'Action/Science fiction',\n",
       "       'Romantic teenage drama', 'Comedy / Musical', 'Musical',\n",
       "       'Science fiction/Mystery', 'Crime drama',\n",
       "       'Psychological thriller drama', 'Adventure/Comedy', 'Black comedy',\n",
       "       'Romance', 'Horror comedy', 'Christian musical',\n",
       "       'Romantic teen drama', 'Family', 'Dark comedy', 'Comedy horror',\n",
       "       'Psychological thriller', 'Biopic', 'Science fiction/Thriller',\n",
       "       'Mockumentary', 'Satire', 'One-man show', 'Romantic comedy-drama',\n",
       "       'Comedy/Horror', 'Fantasy', 'Sports-drama', 'Zombie/Heist',\n",
       "       'Psychological horror', 'Sports film', 'Comedy mystery',\n",
       "       'Romantic thriller', 'Christmas comedy', 'War-Comedy',\n",
       "       'Romantic comedy/Holiday', 'Adventure-romance', 'Adventure',\n",
       "       'Horror-thriller', 'Dance comedy', 'Stop Motion',\n",
       "       'Horror/Crime drama', 'Urban fantasy', 'Drama/Horror',\n",
       "       'Family/Comedy-drama', 'War', 'Crime thriller',\n",
       "       'Science fiction/Action', 'Teen comedy horror', 'Concert Film',\n",
       "       'Musical comedy', 'Animation/Musical/Adventure',\n",
       "       'Animation / Musicial', 'Animation/Comedy/Adventure',\n",
       "       'Action thriller', 'Anime/Science fiction', 'Animation / Short',\n",
       "       'War drama', 'Family/Christmas musical',\n",
       "       'Science fiction thriller', 'Drama / Short',\n",
       "       'Hidden-camera prank comedy', 'Spy thriller', 'Anime/Fantasy',\n",
       "       'Animated musical comedy', 'Variety Show', 'Superhero/Action',\n",
       "       'Biographical/Comedy', 'Historical-epic', 'Animation / Comedy',\n",
       "       'Christmas/Fantasy/Adventure/Comedy', 'Mentalism special',\n",
       "       'Drama-Comedy', 'Coming-of-age comedy-drama', 'Historical drama',\n",
       "       'Making-of', 'Action-adventure', 'Animation / Science Fiction',\n",
       "       'Anthology/Dark comedy', 'Musical / Short',\n",
       "       'Animation/Christmas/Comedy/Adventure'], dtype=object)"
      ]
     },
     "metadata": {},
     "execution_count": 24
    }
   ],
   "metadata": {}
  },
  {
   "cell_type": "markdown",
   "source": [
    "## Bonus: Some movies are tagged with more than one genre, hence, the list of unique genres could be (possibly) less than what you have just obtained. Find a way to deal with this situation, and derive the correct sets of (single) genre."
   ],
   "metadata": {}
  },
  {
   "cell_type": "code",
   "execution_count": 25,
   "source": [
    "# first, get all genres, including singular and multiple genre tags\n",
    "all_genre_tags = \n",
    "# a variable to keep all singular genres\n",
    "singular_genres = \n",
    "for genre_tag in all_genre_tags:\n",
    "    # check if this tag is multiple or single\n",
    "    # check whether '/' is in this tag\n",
    "    if \n",
    "        # '/' seperate different genre tags\n",
    "        # let's separate them\n",
    "        genres = \n",
    "        # append these genres to the list of singular genre\n",
    "        singular_genres = \n",
    "    else:\n",
    "        # this tag has only one genre\n",
    "        # append this genre to the list of singular genre\n",
    "        singular_genres =\n",
    "# now get unique genres from the list of genres\n",
    "\n",
    "# print print the number of unique genres\n",
    "# also print them out"
   ],
   "outputs": [
    {
     "output_type": "stream",
     "name": "stdout",
     "text": [
      "98\n",
      "{'Western', 'Romance', 'Mentalism special', 'Family', 'Psychological thriller', ' Science Fiction', 'Psychological horror', 'Historical drama', 'Horror-thriller', 'Horror thriller', 'Christmas musical', 'Action-adventure', 'Dark comedy', 'Romantic thriller', 'Concert Film', 'War', 'One-man show', ' Musical', 'Drama', 'Heist film', 'Variety Show', 'Coming-of-age comedy-drama', 'Action-thriller', ' Musicial', 'Action comedy', 'Superhero', 'Urban fantasy', 'Comedy mystery', 'Crime drama', 'Science fiction', 'War-Comedy', 'Romantic teenage drama', 'Animated musical comedy', 'Science fiction thriller', 'Supernatural drama', 'Mockumentary', 'Black comedy', 'Making-of', 'Drama-Comedy', 'Historical-epic', 'Sports film', 'Romantic comedy', 'War drama', 'Stop Motion', 'Crime thriller', 'Christian musical', 'Holiday', 'Science fiction adventure', 'Biopic', 'Comedy ', 'Horror', 'Christmas comedy', 'Drama ', 'Anime', 'Sports-drama', 'Romantic teen drama', 'Musical ', ' Short', 'Horror anthology', 'Hidden-camera prank comedy', 'Action', 'Musical', 'Romantic comedy-drama', ' Comedy', 'Animation ', 'Comedy-drama', 'Aftershow ', 'Comedy horror', 'Teen comedy horror', 'Romance drama', 'Christmas', 'Animation', 'Fantasy', 'Family film', 'Variety show', 'Political thriller', 'Anthology', 'Adventure-romance', 'Superhero-Comedy', 'Documentary', 'Teen comedy-drama', 'Spy thriller', 'Zombie', 'Dance comedy', 'Biographical', 'Action thriller', 'Thriller', 'Musical comedy', ' Interview', 'Adventure', 'Mystery', 'Heist', 'Satire', 'Comedy', 'Anime ', 'Psychological thriller drama', 'Horror comedy', 'Romantic drama'}\n"
     ]
    }
   ],
   "metadata": {}
  },
  {
   "cell_type": "markdown",
   "source": [
    "## Sort the movies by their titles"
   ],
   "metadata": {}
  },
  {
   "cell_type": "code",
   "execution_count": 26,
   "source": [],
   "outputs": [
    {
     "output_type": "execute_result",
     "data": {
      "text/html": [
       "<div>\n",
       "<style scoped>\n",
       "    .dataframe tbody tr th:only-of-type {\n",
       "        vertical-align: middle;\n",
       "    }\n",
       "\n",
       "    .dataframe tbody tr th {\n",
       "        vertical-align: top;\n",
       "    }\n",
       "\n",
       "    .dataframe thead th {\n",
       "        text-align: right;\n",
       "    }\n",
       "</style>\n",
       "<table border=\"1\" class=\"dataframe\">\n",
       "  <thead>\n",
       "    <tr style=\"text-align: right;\">\n",
       "      <th></th>\n",
       "      <th>Title</th>\n",
       "      <th>Genre</th>\n",
       "      <th>Premiere</th>\n",
       "      <th>Runtime</th>\n",
       "      <th>IMDB Score</th>\n",
       "      <th>Language</th>\n",
       "    </tr>\n",
       "  </thead>\n",
       "  <tbody>\n",
       "    <tr>\n",
       "      <th>65</th>\n",
       "      <td>#REALITYHIGH</td>\n",
       "      <td>Comedy</td>\n",
       "      <td>September 8, 2017</td>\n",
       "      <td>99</td>\n",
       "      <td>5.2</td>\n",
       "      <td>English</td>\n",
       "    </tr>\n",
       "    <tr>\n",
       "      <th>571</th>\n",
       "      <td>13th</td>\n",
       "      <td>Documentary</td>\n",
       "      <td>October 7, 2016</td>\n",
       "      <td>100</td>\n",
       "      <td>8.2</td>\n",
       "      <td>English</td>\n",
       "    </tr>\n",
       "    <tr>\n",
       "      <th>451</th>\n",
       "      <td>13th: A Conversation with Oprah Winfrey &amp; Ava ...</td>\n",
       "      <td>Aftershow / Interview</td>\n",
       "      <td>January 26, 2017</td>\n",
       "      <td>36</td>\n",
       "      <td>7.1</td>\n",
       "      <td>English</td>\n",
       "    </tr>\n",
       "    <tr>\n",
       "      <th>161</th>\n",
       "      <td>15 August</td>\n",
       "      <td>Comedy-drama</td>\n",
       "      <td>March 29, 2019</td>\n",
       "      <td>124</td>\n",
       "      <td>5.8</td>\n",
       "      <td>Marathi</td>\n",
       "    </tr>\n",
       "    <tr>\n",
       "      <th>262</th>\n",
       "      <td>1922</td>\n",
       "      <td>Horror/Crime drama</td>\n",
       "      <td>October 20, 2017</td>\n",
       "      <td>102</td>\n",
       "      <td>6.3</td>\n",
       "      <td>English</td>\n",
       "    </tr>\n",
       "  </tbody>\n",
       "</table>\n",
       "</div>"
      ],
      "text/plain": [
       "                                                 Title                  Genre  \\\n",
       "65                                        #REALITYHIGH                 Comedy   \n",
       "571                                               13th            Documentary   \n",
       "451  13th: A Conversation with Oprah Winfrey & Ava ...  Aftershow / Interview   \n",
       "161                                          15 August           Comedy-drama   \n",
       "262                                               1922     Horror/Crime drama   \n",
       "\n",
       "              Premiere  Runtime  IMDB Score Language  \n",
       "65   September 8, 2017       99         5.2  English  \n",
       "571    October 7, 2016      100         8.2  English  \n",
       "451   January 26, 2017       36         7.1  English  \n",
       "161     March 29, 2019      124         5.8  Marathi  \n",
       "262   October 20, 2017      102         6.3  English  "
      ]
     },
     "metadata": {},
     "execution_count": 26
    }
   ],
   "metadata": {}
  },
  {
   "cell_type": "markdown",
   "source": [
    "## To simplify the data for the sake of this Lab session, we are going to remove movies with compound genres."
   ],
   "metadata": {}
  },
  {
   "cell_type": "code",
   "execution_count": 44,
   "source": [
    "df = df[df['Genre'].apply(lambda g: '/' not in g)]\n",
    "df"
   ],
   "outputs": [
    {
     "output_type": "execute_result",
     "data": {
      "text/html": [
       "<div>\n",
       "<style scoped>\n",
       "    .dataframe tbody tr th:only-of-type {\n",
       "        vertical-align: middle;\n",
       "    }\n",
       "\n",
       "    .dataframe tbody tr th {\n",
       "        vertical-align: top;\n",
       "    }\n",
       "\n",
       "    .dataframe thead th {\n",
       "        text-align: right;\n",
       "    }\n",
       "</style>\n",
       "<table border=\"1\" class=\"dataframe\">\n",
       "  <thead>\n",
       "    <tr style=\"text-align: right;\">\n",
       "      <th></th>\n",
       "      <th>Genre</th>\n",
       "      <th>Premiere</th>\n",
       "      <th>Runtime</th>\n",
       "      <th>IMDB Score</th>\n",
       "      <th>Language</th>\n",
       "      <th>PremiereDate</th>\n",
       "    </tr>\n",
       "    <tr>\n",
       "      <th>Title</th>\n",
       "      <th></th>\n",
       "      <th></th>\n",
       "      <th></th>\n",
       "      <th></th>\n",
       "      <th></th>\n",
       "      <th></th>\n",
       "    </tr>\n",
       "  </thead>\n",
       "  <tbody>\n",
       "    <tr>\n",
       "      <th>#REALITYHIGH</th>\n",
       "      <td>Comedy</td>\n",
       "      <td>September 8, 2017</td>\n",
       "      <td>99</td>\n",
       "      <td>5.2</td>\n",
       "      <td>English</td>\n",
       "      <td>2017-09-08</td>\n",
       "    </tr>\n",
       "    <tr>\n",
       "      <th>13th</th>\n",
       "      <td>Documentary</td>\n",
       "      <td>October 7, 2016</td>\n",
       "      <td>100</td>\n",
       "      <td>8.2</td>\n",
       "      <td>English</td>\n",
       "      <td>2016-10-07</td>\n",
       "    </tr>\n",
       "    <tr>\n",
       "      <th>15 August</th>\n",
       "      <td>Comedy-drama</td>\n",
       "      <td>March 29, 2019</td>\n",
       "      <td>124</td>\n",
       "      <td>5.8</td>\n",
       "      <td>Marathi</td>\n",
       "      <td>2019-03-29</td>\n",
       "    </tr>\n",
       "    <tr>\n",
       "      <th>22 July</th>\n",
       "      <td>Drama</td>\n",
       "      <td>October 10, 2018</td>\n",
       "      <td>144</td>\n",
       "      <td>6.8</td>\n",
       "      <td>English</td>\n",
       "      <td>2018-10-10</td>\n",
       "    </tr>\n",
       "    <tr>\n",
       "      <th>5 Star Christmas</th>\n",
       "      <td>Comedy</td>\n",
       "      <td>December 7, 2018</td>\n",
       "      <td>95</td>\n",
       "      <td>4.6</td>\n",
       "      <td>Italian</td>\n",
       "      <td>2018-12-07</td>\n",
       "    </tr>\n",
       "    <tr>\n",
       "      <th>...</th>\n",
       "      <td>...</td>\n",
       "      <td>...</td>\n",
       "      <td>...</td>\n",
       "      <td>...</td>\n",
       "      <td>...</td>\n",
       "      <td>...</td>\n",
       "    </tr>\n",
       "    <tr>\n",
       "      <th>Yeh Ballet</th>\n",
       "      <td>Drama</td>\n",
       "      <td>February 21, 2020</td>\n",
       "      <td>117</td>\n",
       "      <td>7.6</td>\n",
       "      <td>Hindi</td>\n",
       "      <td>2020-02-21</td>\n",
       "    </tr>\n",
       "    <tr>\n",
       "      <th>Yes Day</th>\n",
       "      <td>Comedy</td>\n",
       "      <td>March 12, 2021</td>\n",
       "      <td>86</td>\n",
       "      <td>5.7</td>\n",
       "      <td>English</td>\n",
       "      <td>2021-03-12</td>\n",
       "    </tr>\n",
       "    <tr>\n",
       "      <th>You've Got This</th>\n",
       "      <td>Romantic comedy</td>\n",
       "      <td>October 2, 2020</td>\n",
       "      <td>111</td>\n",
       "      <td>5.8</td>\n",
       "      <td>Spanish</td>\n",
       "      <td>2020-10-02</td>\n",
       "    </tr>\n",
       "    <tr>\n",
       "      <th>Zion</th>\n",
       "      <td>Documentary</td>\n",
       "      <td>August 10, 2018</td>\n",
       "      <td>11</td>\n",
       "      <td>7.2</td>\n",
       "      <td>English</td>\n",
       "      <td>2018-08-10</td>\n",
       "    </tr>\n",
       "    <tr>\n",
       "      <th>�l�t?r�</th>\n",
       "      <td>Crime drama</td>\n",
       "      <td>October 2, 2020</td>\n",
       "      <td>106</td>\n",
       "      <td>5.5</td>\n",
       "      <td>English</td>\n",
       "      <td>2020-10-02</td>\n",
       "    </tr>\n",
       "  </tbody>\n",
       "</table>\n",
       "<p>533 rows × 6 columns</p>\n",
       "</div>"
      ],
      "text/plain": [
       "                            Genre           Premiere  Runtime  IMDB Score  \\\n",
       "Title                                                                       \n",
       "#REALITYHIGH               Comedy  September 8, 2017       99         5.2   \n",
       "13th                  Documentary    October 7, 2016      100         8.2   \n",
       "15 August            Comedy-drama     March 29, 2019      124         5.8   \n",
       "22 July                     Drama   October 10, 2018      144         6.8   \n",
       "5 Star Christmas           Comedy   December 7, 2018       95         4.6   \n",
       "...                           ...                ...      ...         ...   \n",
       "Yeh Ballet                  Drama  February 21, 2020      117         7.6   \n",
       "Yes Day                    Comedy     March 12, 2021       86         5.7   \n",
       "You've Got This   Romantic comedy    October 2, 2020      111         5.8   \n",
       "Zion                  Documentary    August 10, 2018       11         7.2   \n",
       "�l�t?r�               Crime drama    October 2, 2020      106         5.5   \n",
       "\n",
       "                 Language PremiereDate  \n",
       "Title                                   \n",
       "#REALITYHIGH      English   2017-09-08  \n",
       "13th              English   2016-10-07  \n",
       "15 August         Marathi   2019-03-29  \n",
       "22 July           English   2018-10-10  \n",
       "5 Star Christmas  Italian   2018-12-07  \n",
       "...                   ...          ...  \n",
       "Yeh Ballet          Hindi   2020-02-21  \n",
       "Yes Day           English   2021-03-12  \n",
       "You've Got This   Spanish   2020-10-02  \n",
       "Zion              English   2018-08-10  \n",
       "�l�t?r�           English   2020-10-02  \n",
       "\n",
       "[533 rows x 6 columns]"
      ]
     },
     "metadata": {},
     "execution_count": 44
    }
   ],
   "metadata": {}
  },
  {
   "cell_type": "markdown",
   "source": [
    "## You perhaps have noticed that there are genres with '-' notation, e.g. Comedy-drama. For this Lab session, let's assume that they stand for unique genres. That means 'Comedy-drama' is different from 'Drama'."
   ],
   "metadata": {}
  },
  {
   "cell_type": "markdown",
   "source": [
    "## Extract movies with only 1 tag `Action` and assign a new dataframe to them, called `df_action`"
   ],
   "metadata": {}
  },
  {
   "cell_type": "code",
   "execution_count": 56,
   "source": [],
   "outputs": [
    {
     "output_type": "execute_result",
     "data": {
      "text/html": [
       "<div>\n",
       "<style scoped>\n",
       "    .dataframe tbody tr th:only-of-type {\n",
       "        vertical-align: middle;\n",
       "    }\n",
       "\n",
       "    .dataframe tbody tr th {\n",
       "        vertical-align: top;\n",
       "    }\n",
       "\n",
       "    .dataframe thead th {\n",
       "        text-align: right;\n",
       "    }\n",
       "</style>\n",
       "<table border=\"1\" class=\"dataframe\">\n",
       "  <thead>\n",
       "    <tr style=\"text-align: right;\">\n",
       "      <th></th>\n",
       "      <th>Title</th>\n",
       "      <th>Genre</th>\n",
       "      <th>Premiere</th>\n",
       "      <th>Runtime</th>\n",
       "      <th>IMDB Score</th>\n",
       "      <th>Language</th>\n",
       "      <th>PremiereDate</th>\n",
       "    </tr>\n",
       "  </thead>\n",
       "  <tbody>\n",
       "    <tr>\n",
       "      <th>6</th>\n",
       "      <td>6 Underground</td>\n",
       "      <td>Action</td>\n",
       "      <td>December 13, 2019</td>\n",
       "      <td>128</td>\n",
       "      <td>6.1</td>\n",
       "      <td>English</td>\n",
       "      <td>2019-12-13</td>\n",
       "    </tr>\n",
       "    <tr>\n",
       "      <th>121</th>\n",
       "      <td>Drive</td>\n",
       "      <td>Action</td>\n",
       "      <td>November 1, 2019</td>\n",
       "      <td>147</td>\n",
       "      <td>3.5</td>\n",
       "      <td>Hindi</td>\n",
       "      <td>2019-11-01</td>\n",
       "    </tr>\n",
       "    <tr>\n",
       "      <th>123</th>\n",
       "      <td>Earth and Blood</td>\n",
       "      <td>Action</td>\n",
       "      <td>April 17, 2020</td>\n",
       "      <td>80</td>\n",
       "      <td>4.9</td>\n",
       "      <td>French</td>\n",
       "      <td>2020-04-17</td>\n",
       "    </tr>\n",
       "    <tr>\n",
       "      <th>135</th>\n",
       "      <td>Extraction</td>\n",
       "      <td>Action</td>\n",
       "      <td>April 24, 2020</td>\n",
       "      <td>117</td>\n",
       "      <td>6.7</td>\n",
       "      <td>English</td>\n",
       "      <td>2020-04-24</td>\n",
       "    </tr>\n",
       "    <tr>\n",
       "      <th>303</th>\n",
       "      <td>Point Blank</td>\n",
       "      <td>Action</td>\n",
       "      <td>July 12, 2019</td>\n",
       "      <td>86</td>\n",
       "      <td>5.7</td>\n",
       "      <td>English</td>\n",
       "      <td>2019-07-12</td>\n",
       "    </tr>\n",
       "  </tbody>\n",
       "</table>\n",
       "</div>"
      ],
      "text/plain": [
       "               Title   Genre           Premiere  Runtime  IMDB Score Language  \\\n",
       "6      6 Underground  Action  December 13, 2019      128         6.1  English   \n",
       "121            Drive  Action   November 1, 2019      147         3.5    Hindi   \n",
       "123  Earth and Blood  Action     April 17, 2020       80         4.9   French   \n",
       "135       Extraction  Action     April 24, 2020      117         6.7  English   \n",
       "303      Point Blank  Action      July 12, 2019       86         5.7  English   \n",
       "\n",
       "    PremiereDate  \n",
       "6     2019-12-13  \n",
       "121   2019-11-01  \n",
       "123   2020-04-17  \n",
       "135   2020-04-24  \n",
       "303   2019-07-12  "
      ]
     },
     "metadata": {},
     "execution_count": 56
    }
   ],
   "metadata": {}
  },
  {
   "cell_type": "markdown",
   "source": [
    "## What is the average score of all action movies?"
   ],
   "metadata": {}
  },
  {
   "cell_type": "code",
   "execution_count": 46,
   "source": [],
   "outputs": [
    {
     "output_type": "execute_result",
     "data": {
      "text/plain": [
       "5.414285714285714"
      ]
     },
     "metadata": {},
     "execution_count": 46
    }
   ],
   "metadata": {}
  },
  {
   "cell_type": "markdown",
   "source": [
    "## You have learned to calculate the average IMDB score for only the action movies by extracting relevant movies. By using `groupby`, the calculation can be applied to all the genres automatically.\n",
    "## Now, let's group the dataframe by `Genre`."
   ],
   "metadata": {}
  },
  {
   "cell_type": "code",
   "execution_count": 47,
   "source": [
    "gp_genre = "
   ],
   "outputs": [],
   "metadata": {}
  },
  {
   "cell_type": "markdown",
   "source": [
    "## Calculate average score and average runtime for each of the groups."
   ],
   "metadata": {}
  },
  {
   "cell_type": "code",
   "execution_count": 48,
   "source": [],
   "outputs": [
    {
     "output_type": "execute_result",
     "data": {
      "text/html": [
       "<div>\n",
       "<style scoped>\n",
       "    .dataframe tbody tr th:only-of-type {\n",
       "        vertical-align: middle;\n",
       "    }\n",
       "\n",
       "    .dataframe tbody tr th {\n",
       "        vertical-align: top;\n",
       "    }\n",
       "\n",
       "    .dataframe thead th {\n",
       "        text-align: right;\n",
       "    }\n",
       "</style>\n",
       "<table border=\"1\" class=\"dataframe\">\n",
       "  <thead>\n",
       "    <tr style=\"text-align: right;\">\n",
       "      <th></th>\n",
       "      <th>IMDB Score</th>\n",
       "      <th>Runtime</th>\n",
       "    </tr>\n",
       "    <tr>\n",
       "      <th>Genre</th>\n",
       "      <th></th>\n",
       "      <th></th>\n",
       "    </tr>\n",
       "  </thead>\n",
       "  <tbody>\n",
       "    <tr>\n",
       "      <th>Action</th>\n",
       "      <td>5.414286</td>\n",
       "      <td>108.000000</td>\n",
       "    </tr>\n",
       "    <tr>\n",
       "      <th>Action comedy</th>\n",
       "      <td>5.420000</td>\n",
       "      <td>101.200000</td>\n",
       "    </tr>\n",
       "    <tr>\n",
       "      <th>Action thriller</th>\n",
       "      <td>6.400000</td>\n",
       "      <td>82.000000</td>\n",
       "    </tr>\n",
       "    <tr>\n",
       "      <th>Action-adventure</th>\n",
       "      <td>7.300000</td>\n",
       "      <td>121.000000</td>\n",
       "    </tr>\n",
       "    <tr>\n",
       "      <th>Action-thriller</th>\n",
       "      <td>6.133333</td>\n",
       "      <td>119.666667</td>\n",
       "    </tr>\n",
       "    <tr>\n",
       "      <th>...</th>\n",
       "      <td>...</td>\n",
       "      <td>...</td>\n",
       "    </tr>\n",
       "    <tr>\n",
       "      <th>Variety show</th>\n",
       "      <td>5.950000</td>\n",
       "      <td>60.500000</td>\n",
       "    </tr>\n",
       "    <tr>\n",
       "      <th>War</th>\n",
       "      <td>6.750000</td>\n",
       "      <td>110.500000</td>\n",
       "    </tr>\n",
       "    <tr>\n",
       "      <th>War drama</th>\n",
       "      <td>7.100000</td>\n",
       "      <td>145.500000</td>\n",
       "    </tr>\n",
       "    <tr>\n",
       "      <th>War-Comedy</th>\n",
       "      <td>6.000000</td>\n",
       "      <td>122.000000</td>\n",
       "    </tr>\n",
       "    <tr>\n",
       "      <th>Western</th>\n",
       "      <td>6.066667</td>\n",
       "      <td>116.666667</td>\n",
       "    </tr>\n",
       "  </tbody>\n",
       "</table>\n",
       "<p>79 rows × 2 columns</p>\n",
       "</div>"
      ],
      "text/plain": [
       "                  IMDB Score     Runtime\n",
       "Genre                                   \n",
       "Action              5.414286  108.000000\n",
       "Action comedy       5.420000  101.200000\n",
       "Action thriller     6.400000   82.000000\n",
       "Action-adventure    7.300000  121.000000\n",
       "Action-thriller     6.133333  119.666667\n",
       "...                      ...         ...\n",
       "Variety show        5.950000   60.500000\n",
       "War                 6.750000  110.500000\n",
       "War drama           7.100000  145.500000\n",
       "War-Comedy          6.000000  122.000000\n",
       "Western             6.066667  116.666667\n",
       "\n",
       "[79 rows x 2 columns]"
      ]
     },
     "metadata": {},
     "execution_count": 48
    }
   ],
   "metadata": {}
  },
  {
   "cell_type": "markdown",
   "source": [
    "## On average, which movie genre scores the highest?"
   ],
   "metadata": {}
  },
  {
   "cell_type": "code",
   "execution_count": 49,
   "source": [
    "# index of the genre with the highest average score\n"
   ],
   "outputs": [
    {
     "output_type": "execute_result",
     "data": {
      "text/plain": [
       "19"
      ]
     },
     "metadata": {},
     "execution_count": 49
    }
   ],
   "metadata": {}
  },
  {
   "cell_type": "code",
   "execution_count": 50,
   "source": [],
   "outputs": [
    {
     "output_type": "execute_result",
     "data": {
      "text/plain": [
       "'Concert Film'"
      ]
     },
     "metadata": {},
     "execution_count": 50
    }
   ],
   "metadata": {}
  },
  {
   "cell_type": "markdown",
   "source": [
    "## Are the movie titles unique?"
   ],
   "metadata": {}
  },
  {
   "cell_type": "code",
   "execution_count": 61,
   "source": [
    "# number of unique titles"
   ],
   "outputs": [
    {
     "output_type": "execute_result",
     "data": {
      "text/plain": [
       "533"
      ]
     },
     "metadata": {},
     "execution_count": 61
    }
   ],
   "metadata": {}
  },
  {
   "cell_type": "markdown",
   "source": [
    "## You have just found out that the titles are unique. It can be used as indexes for the dataframe. Let's make the `Title` column as index."
   ],
   "metadata": {}
  },
  {
   "cell_type": "code",
   "execution_count": 62,
   "source": [],
   "outputs": [
    {
     "output_type": "execute_result",
     "data": {
      "text/html": [
       "<div>\n",
       "<style scoped>\n",
       "    .dataframe tbody tr th:only-of-type {\n",
       "        vertical-align: middle;\n",
       "    }\n",
       "\n",
       "    .dataframe tbody tr th {\n",
       "        vertical-align: top;\n",
       "    }\n",
       "\n",
       "    .dataframe thead th {\n",
       "        text-align: right;\n",
       "    }\n",
       "</style>\n",
       "<table border=\"1\" class=\"dataframe\">\n",
       "  <thead>\n",
       "    <tr style=\"text-align: right;\">\n",
       "      <th></th>\n",
       "      <th>Genre</th>\n",
       "      <th>Premiere</th>\n",
       "      <th>Runtime</th>\n",
       "      <th>IMDB Score</th>\n",
       "      <th>Language</th>\n",
       "      <th>PremiereDate</th>\n",
       "    </tr>\n",
       "    <tr>\n",
       "      <th>Title</th>\n",
       "      <th></th>\n",
       "      <th></th>\n",
       "      <th></th>\n",
       "      <th></th>\n",
       "      <th></th>\n",
       "      <th></th>\n",
       "    </tr>\n",
       "  </thead>\n",
       "  <tbody>\n",
       "    <tr>\n",
       "      <th>#REALITYHIGH</th>\n",
       "      <td>Comedy</td>\n",
       "      <td>September 8, 2017</td>\n",
       "      <td>99</td>\n",
       "      <td>5.2</td>\n",
       "      <td>English</td>\n",
       "      <td>2017-09-08</td>\n",
       "    </tr>\n",
       "    <tr>\n",
       "      <th>13th</th>\n",
       "      <td>Documentary</td>\n",
       "      <td>October 7, 2016</td>\n",
       "      <td>100</td>\n",
       "      <td>8.2</td>\n",
       "      <td>English</td>\n",
       "      <td>2016-10-07</td>\n",
       "    </tr>\n",
       "    <tr>\n",
       "      <th>15 August</th>\n",
       "      <td>Comedy-drama</td>\n",
       "      <td>March 29, 2019</td>\n",
       "      <td>124</td>\n",
       "      <td>5.8</td>\n",
       "      <td>Marathi</td>\n",
       "      <td>2019-03-29</td>\n",
       "    </tr>\n",
       "    <tr>\n",
       "      <th>22 July</th>\n",
       "      <td>Drama</td>\n",
       "      <td>October 10, 2018</td>\n",
       "      <td>144</td>\n",
       "      <td>6.8</td>\n",
       "      <td>English</td>\n",
       "      <td>2018-10-10</td>\n",
       "    </tr>\n",
       "    <tr>\n",
       "      <th>5 Star Christmas</th>\n",
       "      <td>Comedy</td>\n",
       "      <td>December 7, 2018</td>\n",
       "      <td>95</td>\n",
       "      <td>4.6</td>\n",
       "      <td>Italian</td>\n",
       "      <td>2018-12-07</td>\n",
       "    </tr>\n",
       "  </tbody>\n",
       "</table>\n",
       "</div>"
      ],
      "text/plain": [
       "                         Genre           Premiere  Runtime  IMDB Score  \\\n",
       "Title                                                                    \n",
       "#REALITYHIGH            Comedy  September 8, 2017       99         5.2   \n",
       "13th               Documentary    October 7, 2016      100         8.2   \n",
       "15 August         Comedy-drama     March 29, 2019      124         5.8   \n",
       "22 July                  Drama   October 10, 2018      144         6.8   \n",
       "5 Star Christmas        Comedy   December 7, 2018       95         4.6   \n",
       "\n",
       "                 Language PremiereDate  \n",
       "Title                                   \n",
       "#REALITYHIGH      English   2017-09-08  \n",
       "13th              English   2016-10-07  \n",
       "15 August         Marathi   2019-03-29  \n",
       "22 July           English   2018-10-10  \n",
       "5 Star Christmas  Italian   2018-12-07  "
      ]
     },
     "metadata": {},
     "execution_count": 62
    }
   ],
   "metadata": {}
  },
  {
   "cell_type": "markdown",
   "source": [
    "# Datetime"
   ],
   "metadata": {}
  },
  {
   "cell_type": "markdown",
   "source": [
    "## What is the datetype of the `Premiere` column?"
   ],
   "metadata": {}
  },
  {
   "cell_type": "code",
   "execution_count": 63,
   "source": [],
   "outputs": [
    {
     "output_type": "execute_result",
     "data": {
      "text/plain": [
       "'September 8, 2017'"
      ]
     },
     "metadata": {},
     "execution_count": 63
    }
   ],
   "metadata": {}
  },
  {
   "cell_type": "markdown",
   "source": [
    "## Convert the datetime strings to datetime objects"
   ],
   "metadata": {}
  },
  {
   "cell_type": "code",
   "execution_count": 64,
   "source": [],
   "outputs": [
    {
     "output_type": "execute_result",
     "data": {
      "text/plain": [
       "Title\n",
       "#REALITYHIGH       2017-09-08\n",
       "13th               2016-10-07\n",
       "15 August          2019-03-29\n",
       "22 July            2018-10-10\n",
       "5 Star Christmas   2018-12-07\n",
       "                      ...    \n",
       "Yeh Ballet         2020-02-21\n",
       "Yes Day            2021-03-12\n",
       "You've Got This    2020-10-02\n",
       "Zion               2018-08-10\n",
       "�l�t?r�            2020-10-02\n",
       "Name: Premiere, Length: 533, dtype: datetime64[ns]"
      ]
     },
     "metadata": {},
     "execution_count": 64
    }
   ],
   "metadata": {}
  },
  {
   "cell_type": "markdown",
   "source": [
    "## Create new column for these time objects, name it `PremiereDate`"
   ],
   "metadata": {}
  },
  {
   "cell_type": "code",
   "execution_count": 65,
   "source": [
    "df['PremiereDate'] = \n",
    "df.head()"
   ],
   "outputs": [
    {
     "output_type": "execute_result",
     "data": {
      "text/html": [
       "<div>\n",
       "<style scoped>\n",
       "    .dataframe tbody tr th:only-of-type {\n",
       "        vertical-align: middle;\n",
       "    }\n",
       "\n",
       "    .dataframe tbody tr th {\n",
       "        vertical-align: top;\n",
       "    }\n",
       "\n",
       "    .dataframe thead th {\n",
       "        text-align: right;\n",
       "    }\n",
       "</style>\n",
       "<table border=\"1\" class=\"dataframe\">\n",
       "  <thead>\n",
       "    <tr style=\"text-align: right;\">\n",
       "      <th></th>\n",
       "      <th>Genre</th>\n",
       "      <th>Premiere</th>\n",
       "      <th>Runtime</th>\n",
       "      <th>IMDB Score</th>\n",
       "      <th>Language</th>\n",
       "      <th>PremiereDate</th>\n",
       "    </tr>\n",
       "    <tr>\n",
       "      <th>Title</th>\n",
       "      <th></th>\n",
       "      <th></th>\n",
       "      <th></th>\n",
       "      <th></th>\n",
       "      <th></th>\n",
       "      <th></th>\n",
       "    </tr>\n",
       "  </thead>\n",
       "  <tbody>\n",
       "    <tr>\n",
       "      <th>#REALITYHIGH</th>\n",
       "      <td>Comedy</td>\n",
       "      <td>September 8, 2017</td>\n",
       "      <td>99</td>\n",
       "      <td>5.2</td>\n",
       "      <td>English</td>\n",
       "      <td>2017-09-08</td>\n",
       "    </tr>\n",
       "    <tr>\n",
       "      <th>13th</th>\n",
       "      <td>Documentary</td>\n",
       "      <td>October 7, 2016</td>\n",
       "      <td>100</td>\n",
       "      <td>8.2</td>\n",
       "      <td>English</td>\n",
       "      <td>2016-10-07</td>\n",
       "    </tr>\n",
       "    <tr>\n",
       "      <th>15 August</th>\n",
       "      <td>Comedy-drama</td>\n",
       "      <td>March 29, 2019</td>\n",
       "      <td>124</td>\n",
       "      <td>5.8</td>\n",
       "      <td>Marathi</td>\n",
       "      <td>2019-03-29</td>\n",
       "    </tr>\n",
       "    <tr>\n",
       "      <th>22 July</th>\n",
       "      <td>Drama</td>\n",
       "      <td>October 10, 2018</td>\n",
       "      <td>144</td>\n",
       "      <td>6.8</td>\n",
       "      <td>English</td>\n",
       "      <td>2018-10-10</td>\n",
       "    </tr>\n",
       "    <tr>\n",
       "      <th>5 Star Christmas</th>\n",
       "      <td>Comedy</td>\n",
       "      <td>December 7, 2018</td>\n",
       "      <td>95</td>\n",
       "      <td>4.6</td>\n",
       "      <td>Italian</td>\n",
       "      <td>2018-12-07</td>\n",
       "    </tr>\n",
       "  </tbody>\n",
       "</table>\n",
       "</div>"
      ],
      "text/plain": [
       "                         Genre           Premiere  Runtime  IMDB Score  \\\n",
       "Title                                                                    \n",
       "#REALITYHIGH            Comedy  September 8, 2017       99         5.2   \n",
       "13th               Documentary    October 7, 2016      100         8.2   \n",
       "15 August         Comedy-drama     March 29, 2019      124         5.8   \n",
       "22 July                  Drama   October 10, 2018      144         6.8   \n",
       "5 Star Christmas        Comedy   December 7, 2018       95         4.6   \n",
       "\n",
       "                 Language PremiereDate  \n",
       "Title                                   \n",
       "#REALITYHIGH      English   2017-09-08  \n",
       "13th              English   2016-10-07  \n",
       "15 August         Marathi   2019-03-29  \n",
       "22 July           English   2018-10-10  \n",
       "5 Star Christmas  Italian   2018-12-07  "
      ]
     },
     "metadata": {},
     "execution_count": 65
    }
   ],
   "metadata": {}
  },
  {
   "cell_type": "markdown",
   "source": [
    "## List all the movies that were premiered in 2018"
   ],
   "metadata": {}
  },
  {
   "cell_type": "code",
   "execution_count": 68,
   "source": [
    "# Hints\n",
    "# Use the datetime library\n",
    "# from datetime import datetime, date\n",
    "# left_bound_date\n",
    "# right_bound_date"
   ],
   "outputs": [
    {
     "output_type": "execute_result",
     "data": {
      "text/html": [
       "<div>\n",
       "<style scoped>\n",
       "    .dataframe tbody tr th:only-of-type {\n",
       "        vertical-align: middle;\n",
       "    }\n",
       "\n",
       "    .dataframe tbody tr th {\n",
       "        vertical-align: top;\n",
       "    }\n",
       "\n",
       "    .dataframe thead th {\n",
       "        text-align: right;\n",
       "    }\n",
       "</style>\n",
       "<table border=\"1\" class=\"dataframe\">\n",
       "  <thead>\n",
       "    <tr style=\"text-align: right;\">\n",
       "      <th></th>\n",
       "      <th>Genre</th>\n",
       "      <th>Premiere</th>\n",
       "      <th>Runtime</th>\n",
       "      <th>IMDB Score</th>\n",
       "      <th>Language</th>\n",
       "      <th>PremiereDate</th>\n",
       "    </tr>\n",
       "    <tr>\n",
       "      <th>Title</th>\n",
       "      <th></th>\n",
       "      <th></th>\n",
       "      <th></th>\n",
       "      <th></th>\n",
       "      <th></th>\n",
       "      <th></th>\n",
       "    </tr>\n",
       "  </thead>\n",
       "  <tbody>\n",
       "    <tr>\n",
       "      <th>22 July</th>\n",
       "      <td>Drama</td>\n",
       "      <td>October 10, 2018</td>\n",
       "      <td>144</td>\n",
       "      <td>6.8</td>\n",
       "      <td>English</td>\n",
       "      <td>2018-10-10</td>\n",
       "    </tr>\n",
       "    <tr>\n",
       "      <th>5 Star Christmas</th>\n",
       "      <td>Comedy</td>\n",
       "      <td>December 7, 2018</td>\n",
       "      <td>95</td>\n",
       "      <td>4.6</td>\n",
       "      <td>Italian</td>\n",
       "      <td>2018-12-07</td>\n",
       "    </tr>\n",
       "    <tr>\n",
       "      <th>6 Balloons</th>\n",
       "      <td>Drama</td>\n",
       "      <td>April 6, 2018</td>\n",
       "      <td>75</td>\n",
       "      <td>5.9</td>\n",
       "      <td>English</td>\n",
       "      <td>2018-04-06</td>\n",
       "    </tr>\n",
       "    <tr>\n",
       "      <th>A Christmas Prince: The Royal Wedding</th>\n",
       "      <td>Romantic comedy</td>\n",
       "      <td>November 30, 2018</td>\n",
       "      <td>92</td>\n",
       "      <td>5.3</td>\n",
       "      <td>English</td>\n",
       "      <td>2018-11-30</td>\n",
       "    </tr>\n",
       "    <tr>\n",
       "      <th>Alex Strangelove</th>\n",
       "      <td>Romantic comedy</td>\n",
       "      <td>June 8, 2018</td>\n",
       "      <td>99</td>\n",
       "      <td>6.3</td>\n",
       "      <td>English</td>\n",
       "      <td>2018-06-08</td>\n",
       "    </tr>\n",
       "    <tr>\n",
       "      <th>...</th>\n",
       "      <td>...</td>\n",
       "      <td>...</td>\n",
       "      <td>...</td>\n",
       "      <td>...</td>\n",
       "      <td>...</td>\n",
       "      <td>...</td>\n",
       "    </tr>\n",
       "    <tr>\n",
       "      <th>To All the Boys I've Loved Before</th>\n",
       "      <td>Romantic comedy</td>\n",
       "      <td>August 17, 2018</td>\n",
       "      <td>99</td>\n",
       "      <td>7.1</td>\n",
       "      <td>English</td>\n",
       "      <td>2018-08-17</td>\n",
       "    </tr>\n",
       "    <tr>\n",
       "      <th>To Each, Her Own</th>\n",
       "      <td>Romantic comedy</td>\n",
       "      <td>June 24, 2018</td>\n",
       "      <td>95</td>\n",
       "      <td>5.3</td>\n",
       "      <td>French</td>\n",
       "      <td>2018-06-24</td>\n",
       "    </tr>\n",
       "    <tr>\n",
       "      <th>Two Catalonias</th>\n",
       "      <td>Documentary</td>\n",
       "      <td>September 28, 2018</td>\n",
       "      <td>116</td>\n",
       "      <td>6.4</td>\n",
       "      <td>Spanish/Catalan</td>\n",
       "      <td>2018-09-28</td>\n",
       "    </tr>\n",
       "    <tr>\n",
       "      <th>When We First Met</th>\n",
       "      <td>Romantic comedy</td>\n",
       "      <td>February 9, 2018</td>\n",
       "      <td>97</td>\n",
       "      <td>6.4</td>\n",
       "      <td>English</td>\n",
       "      <td>2018-02-09</td>\n",
       "    </tr>\n",
       "    <tr>\n",
       "      <th>Zion</th>\n",
       "      <td>Documentary</td>\n",
       "      <td>August 10, 2018</td>\n",
       "      <td>11</td>\n",
       "      <td>7.2</td>\n",
       "      <td>English</td>\n",
       "      <td>2018-08-10</td>\n",
       "    </tr>\n",
       "  </tbody>\n",
       "</table>\n",
       "<p>90 rows × 6 columns</p>\n",
       "</div>"
      ],
      "text/plain": [
       "                                                 Genre            Premiere  \\\n",
       "Title                                                                        \n",
       "22 July                                          Drama    October 10, 2018   \n",
       "5 Star Christmas                                Comedy    December 7, 2018   \n",
       "6 Balloons                                       Drama       April 6, 2018   \n",
       "A Christmas Prince: The Royal Wedding  Romantic comedy   November 30, 2018   \n",
       "Alex Strangelove                       Romantic comedy        June 8, 2018   \n",
       "...                                                ...                 ...   \n",
       "To All the Boys I've Loved Before      Romantic comedy     August 17, 2018   \n",
       "To Each, Her Own                       Romantic comedy       June 24, 2018   \n",
       "Two Catalonias                             Documentary  September 28, 2018   \n",
       "When We First Met                      Romantic comedy    February 9, 2018   \n",
       "Zion                                       Documentary     August 10, 2018   \n",
       "\n",
       "                                       Runtime  IMDB Score         Language  \\\n",
       "Title                                                                         \n",
       "22 July                                    144         6.8          English   \n",
       "5 Star Christmas                            95         4.6          Italian   \n",
       "6 Balloons                                  75         5.9          English   \n",
       "A Christmas Prince: The Royal Wedding       92         5.3          English   \n",
       "Alex Strangelove                            99         6.3          English   \n",
       "...                                        ...         ...              ...   \n",
       "To All the Boys I've Loved Before           99         7.1          English   \n",
       "To Each, Her Own                            95         5.3           French   \n",
       "Two Catalonias                             116         6.4  Spanish/Catalan   \n",
       "When We First Met                           97         6.4          English   \n",
       "Zion                                        11         7.2          English   \n",
       "\n",
       "                                      PremiereDate  \n",
       "Title                                               \n",
       "22 July                                 2018-10-10  \n",
       "5 Star Christmas                        2018-12-07  \n",
       "6 Balloons                              2018-04-06  \n",
       "A Christmas Prince: The Royal Wedding   2018-11-30  \n",
       "Alex Strangelove                        2018-06-08  \n",
       "...                                            ...  \n",
       "To All the Boys I've Loved Before       2018-08-17  \n",
       "To Each, Her Own                        2018-06-24  \n",
       "Two Catalonias                          2018-09-28  \n",
       "When We First Met                       2018-02-09  \n",
       "Zion                                    2018-08-10  \n",
       "\n",
       "[90 rows x 6 columns]"
      ]
     },
     "metadata": {},
     "execution_count": 68
    }
   ],
   "metadata": {}
  },
  {
   "cell_type": "markdown",
   "source": [
    "## There is another way to do this by using the function [`apply`](https://pandas.pydata.org/docs/reference/api/pandas.DataFrame.apply.html).  It executes a method on rows or columns."
   ],
   "metadata": {}
  },
  {
   "cell_type": "code",
   "execution_count": null,
   "source": [
    "# Hint, to get year from a datetime object\n",
    "# use .year"
   ],
   "outputs": [],
   "metadata": {}
  }
 ],
 "metadata": {
  "orig_nbformat": 4,
  "language_info": {
   "name": "python",
   "version": "3.7.5",
   "mimetype": "text/x-python",
   "codemirror_mode": {
    "name": "ipython",
    "version": 3
   },
   "pygments_lexer": "ipython3",
   "nbconvert_exporter": "python",
   "file_extension": ".py"
  },
  "kernelspec": {
   "name": "python3",
   "display_name": "Python 3.7.5 64-bit"
  },
  "interpreter": {
   "hash": "df955ce39d0f31d56d4bb2fe0a613e5326ba60723fd33d8303a3aede8f65715c"
  }
 },
 "nbformat": 4,
 "nbformat_minor": 2
}